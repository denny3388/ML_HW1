{
 "cells": [
  {
   "cell_type": "code",
   "execution_count": 1,
   "metadata": {},
   "outputs": [],
   "source": [
    "import pandas as pd\n",
    "import numpy as np\n",
    "import matplotlib.pyplot as plt\n",
    "import scipy.stats as stats\n",
    "import sklearn\n",
    "from sklearn.model_selection import train_test_split # for splitting the data into train and test samples\n",
    "from sklearn.metrics import classification_report # for model evaluation metrics\n",
    "from sklearn.preprocessing import OrdinalEncoder # for encoding categorical features from strings to number arrays\n",
    "from sklearn.naive_bayes import CategoricalNB\n",
    "from sklearn.naive_bayes import GaussianNB\n",
    "from sklearn.model_selection import KFold"
   ]
  },
  {
   "cell_type": "code",
   "execution_count": 2,
   "metadata": {},
   "outputs": [],
   "source": [
    "\"\"\" Holdout validation \"\"\"\n",
    "\n",
    "def holdout(X, y, typ):\n",
    "    \n",
    "    # Create training and testing samples\n",
    "    X_train, X_test, y_train, y_test = train_test_split(X, y, test_size=0.3, random_state=0)\n",
    "\n",
    "    # Fit the model\n",
    "    model = typ\n",
    "    clf = model.fit(X_train, y_train)\n",
    "    \n",
    "    # confusion matrix, accuracy, recall, precision\n",
    "    acc, confusion_mat, recall, precision = [], [], [], []\n",
    "    for p in range(3):\n",
    "        TP, FP, FN, TN = 0, 0, 0, 0\n",
    "        pred = clf.predict(X_test)\n",
    "        positive = label_list[p]\n",
    "        for i in range(len(X_test)):\n",
    "            if pred[i] == positive and y_test[i] == positive:\n",
    "                TP += 1\n",
    "            elif pred[i] == positive and y_test[i] != positive:\n",
    "                FP += 1\n",
    "            elif pred[i] != positive and y_test[i] == positive:\n",
    "                FN += 1\n",
    "            elif pred[i] != positive and y_test[i] != positive:\n",
    "                TN += 1\n",
    "        mat = pd.DataFrame([[TP, FP], [FN, TN]])\n",
    "        confusion_mat.append(mat)\n",
    "        acc.append((TP+TN)/len(X_test))\n",
    "        recall.append(TP/(TP+FN))\n",
    "        precision.append(TP/(TP+FP))\n",
    "    \n",
    "    # Return relevant data for chart plotting\n",
    "    return clf, confusion_mat, acc, recall, precision"
   ]
  },
  {
   "cell_type": "code",
   "execution_count": 3,
   "metadata": {},
   "outputs": [],
   "source": [
    "\"\"\" K-fold \"\"\"\n",
    "\n",
    "def kfold(X, y, typ):\n",
    "    \n",
    "    K = 3\n",
    "    kf_clfs = []\n",
    "    score_sum = 0\n",
    "    \n",
    "    kf = KFold(n_splits=K)\n",
    "    \n",
    "    confusion_mat, acc, recall, precision = [], [], [], [] # list of 3 label being positive\n",
    "    for p in range(3): # for each class being positive\n",
    "        positive = label_list[p]\n",
    "        mats, accs, recalls, precisions = [], [], [], [] # list of 3 folds\n",
    "        for train_index, test_index in kf.split(X,y):\n",
    "            X_train, X_test = X.iloc[train_index], X.iloc[test_index]\n",
    "            y_train, y_test = y[train_index], y[test_index]\n",
    "\n",
    "            # Fit the model\n",
    "            model = typ\n",
    "            clf = model.fit(X_train, y_train)\n",
    "            kf_clfs.append(clf)\n",
    "\n",
    "            # confusion matrix, accuracy, recall, precision\n",
    "            TP, FP, FN, TN = 0, 0, 0, 0\n",
    "            pred = clf.predict(X_test)\n",
    "            for i in range(len(X_test)):\n",
    "                if pred[i] == positive and y_test[i] == positive:\n",
    "                    TP += 1\n",
    "                elif pred[i] == positive and y_test[i] != positive:\n",
    "                    FP += 1\n",
    "                elif pred[i] != positive and y_test[i] == positive:\n",
    "                    FN += 1\n",
    "                elif pred[i] != positive and y_test[i] != positive:\n",
    "                    TN += 1\n",
    "            mats.append(pd.DataFrame([[TP, FP], [FN, TN]]))\n",
    "            accs.append((TP+TN)/len(X_test))\n",
    "            recalls.append(TP/(TP+FN))\n",
    "            precisions.append(TP/(TP+FP))\n",
    "    \n",
    "        mat = (mats[0]+mats[1]+mats[2])/3\n",
    "        confusion_mat.append(mat)\n",
    "        acc.append(sum(accs) / K)\n",
    "        recall.append(sum(recalls) / K)\n",
    "        precision.append(sum(precisions) / K)\n",
    "\n",
    "    # Return relevant data for chart plotting\n",
    "    return kf_clfs, confusion_mat, acc, recall, precision"
   ]
  },
  {
   "cell_type": "code",
   "execution_count": 20,
   "metadata": {},
   "outputs": [],
   "source": [
    "\"\"\" Data input \"\"\"\n",
    "\n",
    "name_list = ['sepal-length','sepal-width','petal-length','petal-width','class']\n",
    "data = pd.read_csv('iris.data', sep=\",\", names=name_list)\n",
    "feature_list = name_list\n",
    "feature_list.remove('class')\n",
    "label_list = ['Iris-setosa','Iris-versicolor','Iris-virginica']\n",
    "\n",
    "\"\"\" Data preprocessing \"\"\"\n",
    "\n",
    "# Drop feature w/ missing value \n",
    "# nothing\n",
    "\n",
    "# Divide data into group according to their class\n",
    "data_group = data.groupby('class')\n",
    "\n",
    "# shuffle\n",
    "data = data.sample(frac=1)"
   ]
  },
  {
   "cell_type": "code",
   "execution_count": 21,
   "metadata": {},
   "outputs": [],
   "source": [
    "\"\"\" Model Constructiong & Validation \"\"\"\n",
    "\n",
    "# Select data for modeling\n",
    "X=data[feature_list]\n",
    "y=data['class'].values\n",
    "\n",
    "# Fit the model and print the result\n",
    "holdout_clf, mat, acc, recall, precision = holdout(X,y,GaussianNB())\n",
    "performance = []\n",
    "for i in range(3):\n",
    "    performance.append([acc[i], recall[i], precision[i]])\n",
    "\n",
    "kf_clfs, mat2, acc2, recall2, precision2 = kfold(X,y,GaussianNB())\n",
    "performance2 = []\n",
    "for i in range(3):\n",
    "    performance2.append([acc2[i], recall2[i], precision2[i]])\n",
    "    \n",
    "\n",
    "# Plot table\n",
    "\n",
    "con_mat_table = []\n",
    "for i in range(3):\n",
    "    con_mat_table.append(pd.DataFrame([[mat[i][0][0], mat[i][1][0], mat2[i][0][0], mat2[i][1][0]],[mat[i][0][1], mat[i][1][1], mat2[i][0][1], mat2[i][1][1]]],\n",
    "                      index=pd.Index([label_list[i]+' (Positive)', 'Else (negative)'], name='Predicted:'),\n",
    "                      columns=pd.MultiIndex.from_product([['Holdout', 'K-fold'],[label_list[i], 'Else']], names=['Validation:', 'Actual:'])))\n",
    "\n",
    "performance_table = pd.DataFrame([performance[0]+performance2[0], performance[1]+performance2[1], performance[2]+performance2[2]],\n",
    "                  index=pd.Index(['Iris-setosa', 'Iris-versicolor', 'Iris-virginica'], name='Positive:'),\n",
    "                  columns=pd.MultiIndex.from_product([['Holdout', 'K-fold'],['Accuracy', 'Recall', 'Precision']], names=['Validation:', 'Performance:']))\n",
    "mean = performance_table.mean(axis=0)\n",
    "performance_table.loc['mean'] = mean"
   ]
  },
  {
   "cell_type": "code",
   "execution_count": 22,
   "metadata": {},
   "outputs": [
    {
     "data": {
      "text/html": [
       "<div>\n",
       "<style scoped>\n",
       "    .dataframe tbody tr th:only-of-type {\n",
       "        vertical-align: middle;\n",
       "    }\n",
       "\n",
       "    .dataframe tbody tr th {\n",
       "        vertical-align: top;\n",
       "    }\n",
       "\n",
       "    .dataframe thead tr th {\n",
       "        text-align: left;\n",
       "    }\n",
       "\n",
       "    .dataframe thead tr:last-of-type th {\n",
       "        text-align: right;\n",
       "    }\n",
       "</style>\n",
       "<table border=\"1\" class=\"dataframe\">\n",
       "  <thead>\n",
       "    <tr>\n",
       "      <th>Validation:</th>\n",
       "      <th colspan=\"2\" halign=\"left\">Holdout</th>\n",
       "      <th colspan=\"2\" halign=\"left\">K-fold</th>\n",
       "    </tr>\n",
       "    <tr>\n",
       "      <th>Actual:</th>\n",
       "      <th>Iris-virginica</th>\n",
       "      <th>Else</th>\n",
       "      <th>Iris-virginica</th>\n",
       "      <th>Else</th>\n",
       "    </tr>\n",
       "    <tr>\n",
       "      <th>Predicted:</th>\n",
       "      <th></th>\n",
       "      <th></th>\n",
       "      <th></th>\n",
       "      <th></th>\n",
       "    </tr>\n",
       "  </thead>\n",
       "  <tbody>\n",
       "    <tr>\n",
       "      <th>Iris-virginica (Positive)</th>\n",
       "      <td>15</td>\n",
       "      <td>1</td>\n",
       "      <td>15.333333</td>\n",
       "      <td>1.666667</td>\n",
       "    </tr>\n",
       "    <tr>\n",
       "      <th>Else (negative)</th>\n",
       "      <td>1</td>\n",
       "      <td>28</td>\n",
       "      <td>1.333333</td>\n",
       "      <td>31.666667</td>\n",
       "    </tr>\n",
       "  </tbody>\n",
       "</table>\n",
       "</div>"
      ],
      "text/plain": [
       "Validation:                      Holdout              K-fold           \n",
       "Actual:                   Iris-virginica Else Iris-virginica       Else\n",
       "Predicted:                                                             \n",
       "Iris-virginica (Positive)             15    1      15.333333   1.666667\n",
       "Else (negative)                        1   28       1.333333  31.666667"
      ]
     },
     "execution_count": 22,
     "metadata": {},
     "output_type": "execute_result"
    }
   ],
   "source": [
    "con_mat_table[2]"
   ]
  },
  {
   "cell_type": "code",
   "execution_count": 23,
   "metadata": {},
   "outputs": [
    {
     "data": {
      "text/html": [
       "<div>\n",
       "<style scoped>\n",
       "    .dataframe tbody tr th:only-of-type {\n",
       "        vertical-align: middle;\n",
       "    }\n",
       "\n",
       "    .dataframe tbody tr th {\n",
       "        vertical-align: top;\n",
       "    }\n",
       "\n",
       "    .dataframe thead tr th {\n",
       "        text-align: left;\n",
       "    }\n",
       "\n",
       "    .dataframe thead tr:last-of-type th {\n",
       "        text-align: right;\n",
       "    }\n",
       "</style>\n",
       "<table border=\"1\" class=\"dataframe\">\n",
       "  <thead>\n",
       "    <tr>\n",
       "      <th>Validation:</th>\n",
       "      <th colspan=\"3\" halign=\"left\">Holdout</th>\n",
       "      <th colspan=\"3\" halign=\"left\">K-fold</th>\n",
       "    </tr>\n",
       "    <tr>\n",
       "      <th>Performance:</th>\n",
       "      <th>Accuracy</th>\n",
       "      <th>Recall</th>\n",
       "      <th>Precision</th>\n",
       "      <th>Accuracy</th>\n",
       "      <th>Recall</th>\n",
       "      <th>Precision</th>\n",
       "    </tr>\n",
       "    <tr>\n",
       "      <th>Positive:</th>\n",
       "      <th></th>\n",
       "      <th></th>\n",
       "      <th></th>\n",
       "      <th></th>\n",
       "      <th></th>\n",
       "      <th></th>\n",
       "    </tr>\n",
       "  </thead>\n",
       "  <tbody>\n",
       "    <tr>\n",
       "      <th>Iris-setosa</th>\n",
       "      <td>1.000000</td>\n",
       "      <td>1.000000</td>\n",
       "      <td>1.000000</td>\n",
       "      <td>1.00</td>\n",
       "      <td>1.000000</td>\n",
       "      <td>1.000000</td>\n",
       "    </tr>\n",
       "    <tr>\n",
       "      <th>Iris-versicolor</th>\n",
       "      <td>0.955556</td>\n",
       "      <td>0.933333</td>\n",
       "      <td>0.933333</td>\n",
       "      <td>0.94</td>\n",
       "      <td>0.901260</td>\n",
       "      <td>0.920192</td>\n",
       "    </tr>\n",
       "    <tr>\n",
       "      <th>Iris-virginica</th>\n",
       "      <td>0.955556</td>\n",
       "      <td>0.937500</td>\n",
       "      <td>0.937500</td>\n",
       "      <td>0.94</td>\n",
       "      <td>0.920343</td>\n",
       "      <td>0.904003</td>\n",
       "    </tr>\n",
       "    <tr>\n",
       "      <th>mean</th>\n",
       "      <td>0.970370</td>\n",
       "      <td>0.956944</td>\n",
       "      <td>0.956944</td>\n",
       "      <td>0.96</td>\n",
       "      <td>0.940534</td>\n",
       "      <td>0.941399</td>\n",
       "    </tr>\n",
       "  </tbody>\n",
       "</table>\n",
       "</div>"
      ],
      "text/plain": [
       "Validation:       Holdout                       K-fold                    \n",
       "Performance:     Accuracy    Recall Precision Accuracy    Recall Precision\n",
       "Positive:                                                                 \n",
       "Iris-setosa      1.000000  1.000000  1.000000     1.00  1.000000  1.000000\n",
       "Iris-versicolor  0.955556  0.933333  0.933333     0.94  0.901260  0.920192\n",
       "Iris-virginica   0.955556  0.937500  0.937500     0.94  0.920343  0.904003\n",
       "mean             0.970370  0.956944  0.956944     0.96  0.940534  0.941399"
      ]
     },
     "execution_count": 23,
     "metadata": {},
     "output_type": "execute_result"
    }
   ],
   "source": [
    "performance_table"
   ]
  },
  {
   "cell_type": "code",
   "execution_count": 25,
   "metadata": {},
   "outputs": [
    {
     "data": {
      "image/png": "[encoded data removed]",
      "text/plain": [
       "<Figure size 864x576 with 1 Axes>"
      ]
     },
     "metadata": {},
     "output_type": "display_data"
    }
   ],
   "source": [
    "\"\"\" Question \"\"\"\n",
    "\n",
    "# Q1\n",
    "Avg = 4.26 # Sample mean\n",
    "SD = 0.469911 # Sample standard deviation\n",
    "\n",
    "# Q2\n",
    "# Use normal distribution\n",
    "plt.style.use('seaborn')\n",
    "plt.rcParams['figure.figsize'] = (12, 8)\n",
    "x = np.linspace(-10, 30, 10000)\n",
    "mu = Avg\n",
    "sigma = SD\n",
    "\n",
    "x = np.linspace(mu - 3*sigma, mu + 3*sigma, 100)\n",
    "plt.plot(x, stats.norm.pdf(x, mu, sigma))\n",
    "plt.show()"
   ]
  },
  {
   "cell_type": "code",
   "execution_count": 24,
   "metadata": {},
   "outputs": [
    {
     "name": "stdout",
     "output_type": "stream",
     "text": [
      "------------------------- Feature = sepal-length -------------------------\n"
     ]
    },
    {
     "data": {
      "image/png": "[encoded data removed]",
      "text/plain": [
       "<Figure size 432x288 with 4 Axes>"
      ]
     },
     "metadata": {
      "needs_background": "light"
     },
     "output_type": "display_data"
    },
    {
     "name": "stdout",
     "output_type": "stream",
     "text": [
      "                      Avg        SD\n",
      "All              5.843333  0.828066\n",
      "Iris-setosa      5.006000  0.352490\n",
      "Iris-versicolor  5.936000  0.516171\n",
      "Iris-virginica   6.588000  0.635880\n",
      "\n",
      "------------------------- Feature = sepal-width -------------------------\n"
     ]
    },
    {
     "data": {
      "image/png": "[encoded data removed]",
      "text/plain": [
       "<Figure size 432x288 with 4 Axes>"
      ]
     },
     "metadata": {
      "needs_background": "light"
     },
     "output_type": "display_data"
    },
    {
     "name": "stdout",
     "output_type": "stream",
     "text": [
      "                   Avg        SD\n",
      "All              3.054  0.433594\n",
      "Iris-setosa      3.418  0.381024\n",
      "Iris-versicolor  2.770  0.313798\n",
      "Iris-virginica   2.974  0.322497\n",
      "\n",
      "------------------------- Feature = petal-length -------------------------\n"
     ]
    },
    {
     "data": {
      "image/png": "[encoded data removed]",
      "text/plain": [
       "<Figure size 432x288 with 4 Axes>"
      ]
     },
     "metadata": {
      "needs_background": "light"
     },
     "output_type": "display_data"
    },
    {
     "name": "stdout",
     "output_type": "stream",
     "text": [
      "                      Avg        SD\n",
      "All              3.758667  1.764420\n",
      "Iris-setosa      1.464000  0.173511\n",
      "Iris-versicolor  4.260000  0.469911\n",
      "Iris-virginica   5.552000  0.551895\n",
      "\n",
      "------------------------- Feature = petal-width -------------------------\n"
     ]
    },
    {
     "data": {
      "image/png": "[encoded data removed]",
      "text/plain": [
       "<Figure size 432x288 with 4 Axes>"
      ]
     },
     "metadata": {
      "needs_background": "light"
     },
     "output_type": "display_data"
    },
    {
     "name": "stdout",
     "output_type": "stream",
     "text": [
      "                      Avg        SD\n",
      "All              1.198667  0.763161\n",
      "Iris-setosa      0.244000  0.107210\n",
      "Iris-versicolor  1.326000  0.197753\n",
      "Iris-virginica   2.026000  0.274650\n",
      "\n"
     ]
    }
   ],
   "source": [
    "\"\"\" Data visualization (Iris) \"\"\"\n",
    "\n",
    "for i, feature in enumerate(feature_list):\n",
    "    \n",
    "    class_list = ['All','Iris-setosa','Iris-versicolor','Iris-virginica']\n",
    "    data_list = [data[feature], data_group.get_group('Iris-setosa')[feature], data_group.get_group('Iris-versicolor')[feature], data_group.get_group('Iris-virginica')[feature]]\n",
    "    \n",
    "    print(\"------------------------- Feature = \" + feature + \" -------------------------\")\n",
    "    plt.figure()\n",
    "    for i in range(4):\n",
    "        cats = pd.cut(data_list[i], [0,1,2,3,4,5,6,7,8,9,10])\n",
    "        plt.subplot(2,2,i+1)\n",
    "        plt.title(class_list[i])\n",
    "        cats.value_counts().sort_index().plot.bar()\n",
    "    plt.tight_layout()\n",
    "    plt.show()\n",
    "    \n",
    "    Array = []\n",
    "    Array.append([data_list[0].mean(), data_list[0].std()])\n",
    "    Array.append([data_list[1].mean(), data_list[1].std()])\n",
    "    Array.append([data_list[2].mean(), data_list[2].std()])\n",
    "    Array.append([data_list[3].mean(), data_list[3].std()])\n",
    "    df = pd.DataFrame(Array, columns = ['Avg','SD'], index = ['All', 'Iris-setosa', 'Iris-versicolor', 'Iris-virginica', ], dtype = float)\n",
    "    print(df)\n",
    "    print()"
   ]
  },
  {
   "cell_type": "code",
   "execution_count": null,
   "metadata": {},
   "outputs": [],
   "source": []
  },
  {
   "cell_type": "code",
   "execution_count": null,
   "metadata": {},
   "outputs": [],
   "source": []
  }
 ],
 "metadata": {
  "kernelspec": {
   "display_name": "Python 3",
   "language": "python",
   "name": "python3"
  },
  "language_info": {
   "codemirror_mode": {
    "name": "ipython",
    "version": 3
   },
   "file_extension": ".py",
   "mimetype": "text/x-python",
   "name": "python",
   "nbconvert_exporter": "python",
   "pygments_lexer": "ipython3",
   "version": "3.6.3"
  }
 },
 "nbformat": 4,
 "nbformat_minor": 2
}
